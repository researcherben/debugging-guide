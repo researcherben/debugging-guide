{
 "cells": [
  {
   "cell_type": "code",
   "execution_count": null,
   "metadata": {},
   "outputs": [],
   "source": []
  },
  {
   "cell_type": "markdown",
   "metadata": {},
   "source": [
    "https://www.crummy.com/software/BeautifulSoup/bs4/doc/"
   ]
  },
  {
   "cell_type": "code",
   "execution_count": null,
   "metadata": {},
   "outputs": [],
   "source": [
    "from bs4 import BeautifulSoup\n",
    "from graphviz import Digraph, Graph, Source, render\n",
    "from IPython.display import Image"
   ]
  },
  {
   "cell_type": "code",
   "execution_count": null,
   "metadata": {},
   "outputs": [],
   "source": [
    "with open('guide.html','r') as fil:\n",
    "    html_doc = fil.read()\n",
    "\n",
    "soup = BeautifulSoup(html_doc, 'html.parser')"
   ]
  },
  {
   "cell_type": "code",
   "execution_count": null,
   "metadata": {},
   "outputs": [],
   "source": [
    "list_of_entries = soup.find_all('fieldset')"
   ]
  },
  {
   "cell_type": "code",
   "execution_count": null,
   "metadata": {},
   "outputs": [],
   "source": [
    "list_of_entries"
   ]
  },
  {
   "cell_type": "code",
   "execution_count": null,
   "metadata": {},
   "outputs": [],
   "source": [
    "str_to_print = \"digraph {\\n\"\n",
    "for entry in list_of_entries:\n",
    "    origin = \"\"\n",
    "    for legend in entry.find_all('legend'):\n",
    "        for link in legend.find_all('a'):\n",
    "            if link.get('name'):\n",
    "                #print('\\ndest: ' + link.get('name'))\n",
    "                if origin==\"\":\n",
    "                    origin = link.get('name')\n",
    "                else:\n",
    "                    print(\"WARNING: 2 legends found?\")\n",
    "    print(\"origin=\",origin)\n",
    "    \n",
    "    for link in entry.find_all('a'):\n",
    "        #print(link)\n",
    "        if link.get('name'):\n",
    "            #print('  dest: ' + link.get('name'))\n",
    "            pass\n",
    "        elif link.get('href'):\n",
    "            if link.get('href').startswith('http'):\n",
    "                #print('  external: ' + link.get('href'))\n",
    "                pass\n",
    "            elif link.get('href').startswith('#'):\n",
    "                #print('  src: ' + link.get('href').replace('#',''))\n",
    "                source = link.get('href').replace('#','')\n",
    "                str_to_print += '\"' + origin + '\" -> \"' + source + '\"\\n'\n",
    "            else:\n",
    "                print('ERROR: unidentified ref' + str(link) + '\\n' + str(entry))\n",
    "        else:\n",
    "            print('ERROR: unidentified link: ' + str(link) + \"\\n\" + str(entry))\n",
    "str_to_print += \"}\\n\""
   ]
  },
  {
   "cell_type": "code",
   "execution_count": null,
   "metadata": {},
   "outputs": [],
   "source": [
    "str_to_print"
   ]
  },
  {
   "cell_type": "code",
   "execution_count": null,
   "metadata": {},
   "outputs": [],
   "source": [
    "dotfilename = 'link_graph.dot'\n",
    "with open(dotfilename,'w') as fil:\n",
    "    fil.write(str_to_print)"
   ]
  },
  {
   "cell_type": "code",
   "execution_count": null,
   "metadata": {},
   "outputs": [],
   "source": [
    "!head link_graph.dot"
   ]
  },
  {
   "cell_type": "markdown",
   "metadata": {},
   "source": [
    "for help with Graphviz, see\n",
    "\n",
    "https://github.com/umbcdata601/spring2020/blob/master/jupyter_notebooks/week_10_graphs/graphviz_for_static_directed_graph_visualization.ipynb"
   ]
  },
  {
   "cell_type": "code",
   "execution_count": null,
   "metadata": {},
   "outputs": [],
   "source": [
    "# https://stackoverflow.com/a/50967197/1164295\n",
    "rtg = Source.from_file('link_graph.dot')"
   ]
  },
  {
   "cell_type": "raw",
   "metadata": {},
   "source": [
    "rtg.format = 'png'\n",
    "rtg.render('linkgraph', view=True)"
   ]
  },
  {
   "cell_type": "code",
   "execution_count": null,
   "metadata": {},
   "outputs": [],
   "source": [
    "render('dot', 'png', 'link_graph.dot')  \n",
    "Image(\"link_graph.dot.png\")"
   ]
  },
  {
   "cell_type": "raw",
   "metadata": {},
   "source": [
    "halt now"
   ]
  },
  {
   "cell_type": "code",
   "execution_count": null,
   "metadata": {},
   "outputs": [],
   "source": [
    "render('circo', 'png', 'link_graph.dot')  \n",
    "Image(\"link_graph.dot.png\")"
   ]
  },
  {
   "cell_type": "code",
   "execution_count": null,
   "metadata": {},
   "outputs": [],
   "source": [
    "render('neato', 'png', 'link_graph.dot')  \n",
    "Image(\"link_graph.dot.png\")"
   ]
  },
  {
   "cell_type": "code",
   "execution_count": null,
   "metadata": {},
   "outputs": [],
   "source": [
    "render('fdp', 'png', 'link_graph.dot')  \n",
    "Image(\"link_graph.dot.png\")"
   ]
  },
  {
   "cell_type": "raw",
   "metadata": {},
   "source": [
    "# this fails; not sure why\n",
    "render('sfdp', 'png', 'link_graph.dot')  \n",
    "Image(\"link_graph.dot.png\")"
   ]
  },
  {
   "cell_type": "code",
   "execution_count": null,
   "metadata": {},
   "outputs": [],
   "source": [
    "render('twopi', 'png', 'link_graph.dot')  \n",
    "Image(\"link_graph.dot.png\")"
   ]
  },
  {
   "cell_type": "code",
   "execution_count": null,
   "metadata": {},
   "outputs": [],
   "source": [
    "render('osage', 'png', 'link_graph.dot')  \n",
    "Image(\"link_graph.dot.png\")"
   ]
  },
  {
   "cell_type": "code",
   "execution_count": null,
   "metadata": {},
   "outputs": [],
   "source": []
  }
 ],
 "metadata": {
  "kernelspec": {
   "display_name": "Python 3 (ipykernel)",
   "language": "python",
   "name": "python3"
  },
  "language_info": {
   "codemirror_mode": {
    "name": "ipython",
    "version": 3
   },
   "file_extension": ".py",
   "mimetype": "text/x-python",
   "name": "python",
   "nbconvert_exporter": "python",
   "pygments_lexer": "ipython3",
   "version": "3.9.6"
  }
 },
 "nbformat": 4,
 "nbformat_minor": 4
}
